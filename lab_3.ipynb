{
  "nbformat": 4,
  "nbformat_minor": 0,
  "metadata": {
    "colab": {
      "name": "lab_3.ipynb",
      "provenance": [],
      "include_colab_link": true
    },
    "kernelspec": {
      "name": "python3",
      "display_name": "Python 3"
    }
  },
  "cells": [
    {
      "cell_type": "markdown",
      "metadata": {
        "id": "view-in-github",
        "colab_type": "text"
      },
      "source": [
        "<a href=\"https://colab.research.google.com/github/KhanNayan/Pattern_lab_work/blob/main/lab_3.ipynb\" target=\"_parent\"><img src=\"https://colab.research.google.com/assets/colab-badge.svg\" alt=\"Open In Colab\"/></a>"
      ]
    },
    {
      "cell_type": "code",
      "metadata": {
        "id": "jA8g3JJqFojK",
        "outputId": "858b5c48-ad4b-4c02-fb0a-1b360df64d59",
        "colab": {
          "base_uri": "https://localhost:8080/"
        }
      },
      "source": [
        "from google.colab import drive\n",
        "drive.mount('/content/drive', force_remount=True)"
      ],
      "execution_count": null,
      "outputs": [
        {
          "output_type": "stream",
          "text": [
            "Mounted at /content/drive\n"
          ],
          "name": "stdout"
        }
      ]
    },
    {
      "cell_type": "code",
      "metadata": {
        "id": "lbREXcIJFs_T",
        "outputId": "65ef14c4-dc08-4427-e710-ab9a37b4eb41",
        "colab": {
          "base_uri": "https://localhost:8080/"
        }
      },
      "source": [
        "%cd /content/drive/My\\ Drive/Pattern\\ Lab/Datasets/Datasets\\ SL/Kmer"
      ],
      "execution_count": null,
      "outputs": [
        {
          "output_type": "stream",
          "text": [
            "/content/drive/My Drive/Pattern Lab/Datasets/Datasets SL/Kmer\n"
          ],
          "name": "stdout"
        }
      ]
    },
    {
      "cell_type": "code",
      "metadata": {
        "id": "MP_ZN87RF4up",
        "outputId": "0d080b6a-d97c-408c-a807-4998ec02787a",
        "colab": {
          "base_uri": "https://localhost:8080/",
          "height": 204
        }
      },
      "source": [
        "import pandas as pd\n",
        "data = pd.read_csv(\"NA_test_special_Kmer2.csv\", header=None)\n",
        "data.head()"
      ],
      "execution_count": null,
      "outputs": [
        {
          "output_type": "execute_result",
          "data": {
            "text/html": [
              "<div>\n",
              "<style scoped>\n",
              "    .dataframe tbody tr th:only-of-type {\n",
              "        vertical-align: middle;\n",
              "    }\n",
              "\n",
              "    .dataframe tbody tr th {\n",
              "        vertical-align: top;\n",
              "    }\n",
              "\n",
              "    .dataframe thead th {\n",
              "        text-align: right;\n",
              "    }\n",
              "</style>\n",
              "<table border=\"1\" class=\"dataframe\">\n",
              "  <thead>\n",
              "    <tr style=\"text-align: right;\">\n",
              "      <th></th>\n",
              "      <th>0</th>\n",
              "      <th>1</th>\n",
              "      <th>2</th>\n",
              "      <th>3</th>\n",
              "      <th>4</th>\n",
              "      <th>5</th>\n",
              "      <th>6</th>\n",
              "      <th>7</th>\n",
              "      <th>8</th>\n",
              "      <th>9</th>\n",
              "      <th>10</th>\n",
              "      <th>11</th>\n",
              "      <th>12</th>\n",
              "      <th>13</th>\n",
              "      <th>14</th>\n",
              "      <th>15</th>\n",
              "      <th>16</th>\n",
              "      <th>17</th>\n",
              "      <th>18</th>\n",
              "      <th>19</th>\n",
              "      <th>20</th>\n",
              "    </tr>\n",
              "  </thead>\n",
              "  <tbody>\n",
              "    <tr>\n",
              "      <th>0</th>\n",
              "      <td>0</td>\n",
              "      <td>0.390244</td>\n",
              "      <td>0.195122</td>\n",
              "      <td>0.121951</td>\n",
              "      <td>0.292683</td>\n",
              "      <td>0.225</td>\n",
              "      <td>0.075</td>\n",
              "      <td>0.025</td>\n",
              "      <td>0.075</td>\n",
              "      <td>0.125</td>\n",
              "      <td>0.025</td>\n",
              "      <td>0.000</td>\n",
              "      <td>0.050</td>\n",
              "      <td>0.025</td>\n",
              "      <td>0.050</td>\n",
              "      <td>0.000</td>\n",
              "      <td>0.050</td>\n",
              "      <td>0.025</td>\n",
              "      <td>0.050</td>\n",
              "      <td>0.075</td>\n",
              "      <td>0.125</td>\n",
              "    </tr>\n",
              "    <tr>\n",
              "      <th>1</th>\n",
              "      <td>0</td>\n",
              "      <td>0.317073</td>\n",
              "      <td>0.341463</td>\n",
              "      <td>0.073171</td>\n",
              "      <td>0.268293</td>\n",
              "      <td>0.125</td>\n",
              "      <td>0.050</td>\n",
              "      <td>0.050</td>\n",
              "      <td>0.100</td>\n",
              "      <td>0.175</td>\n",
              "      <td>0.100</td>\n",
              "      <td>0.025</td>\n",
              "      <td>0.050</td>\n",
              "      <td>0.025</td>\n",
              "      <td>0.000</td>\n",
              "      <td>0.000</td>\n",
              "      <td>0.025</td>\n",
              "      <td>0.000</td>\n",
              "      <td>0.200</td>\n",
              "      <td>0.000</td>\n",
              "      <td>0.075</td>\n",
              "    </tr>\n",
              "    <tr>\n",
              "      <th>2</th>\n",
              "      <td>0</td>\n",
              "      <td>0.414634</td>\n",
              "      <td>0.170732</td>\n",
              "      <td>0.170732</td>\n",
              "      <td>0.243902</td>\n",
              "      <td>0.225</td>\n",
              "      <td>0.100</td>\n",
              "      <td>0.050</td>\n",
              "      <td>0.050</td>\n",
              "      <td>0.050</td>\n",
              "      <td>0.050</td>\n",
              "      <td>0.000</td>\n",
              "      <td>0.075</td>\n",
              "      <td>0.075</td>\n",
              "      <td>0.025</td>\n",
              "      <td>0.025</td>\n",
              "      <td>0.050</td>\n",
              "      <td>0.075</td>\n",
              "      <td>0.000</td>\n",
              "      <td>0.100</td>\n",
              "      <td>0.050</td>\n",
              "    </tr>\n",
              "    <tr>\n",
              "      <th>3</th>\n",
              "      <td>0</td>\n",
              "      <td>0.317073</td>\n",
              "      <td>0.219512</td>\n",
              "      <td>0.146341</td>\n",
              "      <td>0.317073</td>\n",
              "      <td>0.050</td>\n",
              "      <td>0.100</td>\n",
              "      <td>0.050</td>\n",
              "      <td>0.125</td>\n",
              "      <td>0.025</td>\n",
              "      <td>0.050</td>\n",
              "      <td>0.025</td>\n",
              "      <td>0.125</td>\n",
              "      <td>0.075</td>\n",
              "      <td>0.025</td>\n",
              "      <td>0.050</td>\n",
              "      <td>0.000</td>\n",
              "      <td>0.175</td>\n",
              "      <td>0.025</td>\n",
              "      <td>0.025</td>\n",
              "      <td>0.075</td>\n",
              "    </tr>\n",
              "    <tr>\n",
              "      <th>4</th>\n",
              "      <td>0</td>\n",
              "      <td>0.439024</td>\n",
              "      <td>0.195122</td>\n",
              "      <td>0.146341</td>\n",
              "      <td>0.219512</td>\n",
              "      <td>0.225</td>\n",
              "      <td>0.050</td>\n",
              "      <td>0.075</td>\n",
              "      <td>0.100</td>\n",
              "      <td>0.100</td>\n",
              "      <td>0.025</td>\n",
              "      <td>0.025</td>\n",
              "      <td>0.025</td>\n",
              "      <td>0.025</td>\n",
              "      <td>0.075</td>\n",
              "      <td>0.025</td>\n",
              "      <td>0.025</td>\n",
              "      <td>0.075</td>\n",
              "      <td>0.050</td>\n",
              "      <td>0.025</td>\n",
              "      <td>0.075</td>\n",
              "    </tr>\n",
              "  </tbody>\n",
              "</table>\n",
              "</div>"
            ],
            "text/plain": [
              "   0         1         2         3   ...     17     18     19     20\n",
              "0   0  0.390244  0.195122  0.121951  ...  0.025  0.050  0.075  0.125\n",
              "1   0  0.317073  0.341463  0.073171  ...  0.000  0.200  0.000  0.075\n",
              "2   0  0.414634  0.170732  0.170732  ...  0.075  0.000  0.100  0.050\n",
              "3   0  0.317073  0.219512  0.146341  ...  0.175  0.025  0.025  0.075\n",
              "4   0  0.439024  0.195122  0.146341  ...  0.075  0.050  0.025  0.075\n",
              "\n",
              "[5 rows x 21 columns]"
            ]
          },
          "metadata": {
            "tags": []
          },
          "execution_count": 18
        }
      ]
    },
    {
      "cell_type": "code",
      "metadata": {
        "id": "exNRgaIhHUna"
      },
      "source": [
        "import numpy as np"
      ],
      "execution_count": null,
      "outputs": []
    },
    {
      "cell_type": "code",
      "metadata": {
        "id": "Lkvhrp82HpXT",
        "outputId": "b6492078-de8f-459a-e80a-3e5a94da27b5",
        "colab": {
          "base_uri": "https://localhost:8080/"
        }
      },
      "source": [
        "data = data.to_numpy()[:,1:]\n",
        "print(data[0,:])\n",
        "np.save(\"NA_test_special_Kmer2.npy\",data)\n",
        "#np.load() can be used"
      ],
      "execution_count": null,
      "outputs": [
        {
          "output_type": "stream",
          "text": [
            "[0.3902439  0.19512195 0.12195122 0.29268293 0.225      0.075\n",
            " 0.025      0.075      0.125      0.025      0.         0.05\n",
            " 0.025      0.05       0.         0.05       0.025      0.05\n",
            " 0.075      0.125     ]\n"
          ],
          "name": "stdout"
        }
      ]
    },
    {
      "cell_type": "code",
      "metadata": {
        "id": "K_3J0bdqIA2w",
        "outputId": "6c494bf0-4653-4c6c-d4c8-03159b91d374",
        "colab": {
          "base_uri": "https://localhost:8080/"
        }
      },
      "source": [
        "no_of_features = []\n",
        "feature_name = [\"NA_test_special_Kmer1.npy\", \"NA_test_special_Kmer2.npy\"]\n",
        "for f_name in feature_name:\n",
        "  kmer = np.load(f_name)\n",
        "  no_of_features.append(kmer.shape[1])\n",
        "print(no_of_features)"
      ],
      "execution_count": null,
      "outputs": [
        {
          "output_type": "stream",
          "text": [
            "[4, 20]\n"
          ],
          "name": "stdout"
        }
      ]
    },
    {
      "cell_type": "code",
      "metadata": {
        "id": "NAhu4ETaNVU6",
        "outputId": "635013fa-7a49-4e3d-80be-4823074d0a7e",
        "colab": {
          "base_uri": "https://localhost:8080/"
        }
      },
      "source": [
        "index_dict = {}\n",
        "track = 0\n",
        "for i,f_name in enumerate(feature_name):\n",
        "  l = [track, track+no_of_features[i]-1]\n",
        "  track = track + no_of_features[i]\n",
        "  index_dict[f_name] = l\n",
        "print(index_dict)"
      ],
      "execution_count": null,
      "outputs": [
        {
          "output_type": "stream",
          "text": [
            "{'NA_test_special_Kmer1.npy': [0, 3], 'NA_test_special_Kmer2.npy': [4, 23]}\n"
          ],
          "name": "stdout"
        }
      ]
    },
    {
      "cell_type": "code",
      "metadata": {
        "id": "UQRRgokoPja6",
        "outputId": "ddda077e-ef41-4ea5-cd4a-8ecfe5a8ea0b",
        "colab": {
          "base_uri": "https://localhost:8080/"
        }
      },
      "source": [
        "NA_test = np.concatenate((np.load(feature_name[0]),np.load(feature_name[1])), axis=1)\n",
        "print(NA_test.shape)"
      ],
      "execution_count": null,
      "outputs": [
        {
          "output_type": "stream",
          "text": [
            "(132, 24)\n"
          ],
          "name": "stdout"
        }
      ]
    },
    {
      "cell_type": "code",
      "metadata": {
        "id": "urI_9M0CRWEH"
      },
      "source": [
        ""
      ],
      "execution_count": null,
      "outputs": []
    }
  ]
}