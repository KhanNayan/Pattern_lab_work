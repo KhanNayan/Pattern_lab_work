{
  "nbformat": 4,
  "nbformat_minor": 0,
  "metadata": {
    "colab": {
      "name": "Untitled4.ipynb",
      "provenance": [],
      "authorship_tag": "ABX9TyNzQR3TUpIlwcLs4PMIiB57",
      "include_colab_link": true
    },
    "kernelspec": {
      "name": "python3",
      "display_name": "Python 3"
    }
  },
  "cells": [
    {
      "cell_type": "markdown",
      "metadata": {
        "id": "view-in-github",
        "colab_type": "text"
      },
      "source": [
        "<a href=\"https://colab.research.google.com/github/KhanNayan/Pattern_lab_work/blob/main/lab_work1.ipynb\" target=\"_parent\"><img src=\"https://colab.research.google.com/assets/colab-badge.svg\" alt=\"Open In Colab\"/></a>"
      ]
    },
    {
      "cell_type": "code",
      "metadata": {
        "id": "A7uPxvkXnn8Q",
        "colab": {
          "base_uri": "https://localhost:8080/"
        },
        "outputId": "c5a8cb09-2e44-487a-d143-27666a357edc"
      },
      "source": [
        "from google.colab import drive\n",
        "drive.mount('/content/drive',force_remount=True)"
      ],
      "execution_count": null,
      "outputs": [
        {
          "output_type": "stream",
          "text": [
            "Mounted at /content/drive\n"
          ],
          "name": "stdout"
        }
      ]
    },
    {
      "cell_type": "code",
      "metadata": {
        "id": "vTdik75mu4Hb",
        "colab": {
          "base_uri": "https://localhost:8080/"
        },
        "outputId": "bb896ffe-3289-4538-9a10-6c961277f490"
      },
      "source": [
        "%cd /content/drive/My\\ Drive/Pattern\\ Lab/Dataset/Datasets\\ 2"
      ],
      "execution_count": null,
      "outputs": [
        {
          "output_type": "stream",
          "text": [
            "/content/drive/My Drive/Pattern Lab/Dataset/Datasets 2\n"
          ],
          "name": "stdout"
        }
      ]
    },
    {
      "cell_type": "code",
      "metadata": {
        "id": "KcJSbnTyvk3e",
        "colab": {
          "base_uri": "https://localhost:8080/"
        },
        "outputId": "0c460d81-42d9-48f6-e55c-154b7baff055"
      },
      "source": [
        "!pip install biopython"
      ],
      "execution_count": null,
      "outputs": [
        {
          "output_type": "stream",
          "text": [
            "Collecting biopython\n",
            "\u001b[?25l  Downloading https://files.pythonhosted.org/packages/76/02/8b606c4aa92ff61b5eda71d23b499ab1de57d5e818be33f77b01a6f435a8/biopython-1.78-cp36-cp36m-manylinux1_x86_64.whl (2.3MB)\n",
            "\u001b[K     |████████████████████████████████| 2.3MB 2.8MB/s \n",
            "\u001b[?25hRequirement already satisfied: numpy in /usr/local/lib/python3.6/dist-packages (from biopython) (1.18.5)\n",
            "Installing collected packages: biopython\n",
            "Successfully installed biopython-1.78\n"
          ],
          "name": "stdout"
        }
      ]
    },
    {
      "cell_type": "code",
      "metadata": {
        "id": "rwIWjEYAvsJ6"
      },
      "source": [
        "from Bio import SeqIO"
      ],
      "execution_count": null,
      "outputs": []
    },
    {
      "cell_type": "code",
      "metadata": {
        "id": "EmhxX-WRv1ef",
        "colab": {
          "base_uri": "https://localhost:8080/"
        },
        "outputId": "a9f829dd-c879-4842-be5f-74433f342801"
      },
      "source": [
        "!ls"
      ],
      "execution_count": null,
      "outputs": [
        {
          "output_type": "stream",
          "text": [
            "NA_test.fasta  NE_train.txt\t PA_test.fasta\tPE_train.txt\n",
            "NA_train.txt   New_dataset\t PA_train.txt\tPGpick_test.txt\n",
            "NC_test.txt    New_NA_test.txt\t PC_test.txt\tPGpick_train.txt\n",
            "NC_train.txt   NGpick_test.txt\t PC_train.txt\tPGsub_test.txt\n",
            "ND_test.txt    NGpick_train.txt  PD_test.txt\tPGsub_train.txt\n",
            "ND_train.txt   NGsub_test.txt\t PD_train.txt\n",
            "NE_test.txt    NGsub_train.txt\t PE_test.txt\n"
          ],
          "name": "stdout"
        }
      ]
    },
    {
      "cell_type": "code",
      "metadata": {
        "id": "v9kw8p9zwUDm"
      },
      "source": [
        "#1\n",
        "output_file = open(\"New_dataset/New_NA_test.txt\",\"w\")\n",
        "class_label = \"0\"\n",
        "mode = \"training\"\n",
        "\n",
        "for seq_record in SeqIO.parse(\"NA_test.fasta\",\"fasta\"):\n",
        "  id = seq_record.id + \"|\" + class_label + \"|\" + mode\n",
        "  sequence = str(seq_record.seq)\n",
        "  output_file.write(\">\"+ id + \"\\n\" + sequence + \"\\n\")\n",
        "\n",
        "output_file.close()"
      ],
      "execution_count": null,
      "outputs": []
    },
    {
      "cell_type": "code",
      "metadata": {
        "id": "7x-siT6O2neC"
      },
      "source": [
        "#2\n",
        "output_file = open(\"New_dataset/New_NA_train.txt\",\"a\")\n",
        "class_label = \"0\"\n",
        "mode = \"training\"\n",
        "\n",
        "for seq_record in SeqIO.parse(\"NA_train.txt\",\"fasta\"):\n",
        "  id = seq_record.id + \"|\" + class_label + \"|\" + mode\n",
        "  sequence = str(seq_record.seq)\n",
        "  output_file.write(\">\"+ id + \"\\n\" + sequence + \"\\n\")\n",
        "\n",
        "output_file.close()\n",
        "#3\n",
        "output_file = open(\"New_dataset/New_NC_test.txt\",\"a\")\n",
        "class_label = \"0\"\n",
        "mode = \"training\"\n",
        "\n",
        "for seq_record in SeqIO.parse(\"NC_test.txt\",\"fasta\"):\n",
        "  id = seq_record.id + \"|\" + class_label + \"|\" + mode\n",
        "  sequence = str(seq_record.seq)\n",
        "  output_file.write(\">\"+ id + \"\\n\" + sequence + \"\\n\")\n",
        "\n",
        "output_file.close()\n",
        "#4\n",
        "output_file = open(\"New_dataset/New_ND_test.txt\",\"a\")\n",
        "class_label = \"0\"\n",
        "mode = \"training\"\n",
        "\n",
        "for seq_record in SeqIO.parse(\"ND_test.txt\",\"fasta\"):\n",
        "  id = seq_record.id + \"|\" + class_label + \"|\" + mode\n",
        "  sequence = str(seq_record.seq)\n",
        "  output_file.write(\">\"+ id + \"\\n\" + sequence + \"\\n\")\n",
        "\n",
        "output_file.close()\n",
        "#5\n",
        "output_file = open(\"New_dataset/New_NC_train.txt\",\"a\")\n",
        "class_label = \"0\"\n",
        "mode = \"training\"\n",
        "\n",
        "for seq_record in SeqIO.parse(\"NC_train.txt\",\"fasta\"):\n",
        "  id = seq_record.id + \"|\" + class_label + \"|\" + mode\n",
        "  sequence = str(seq_record.seq)\n",
        "  output_file.write(\">\"+ id + \"\\n\" + sequence + \"\\n\")\n",
        "\n",
        "output_file.close()\n",
        "#6\n",
        "output_file = open(\"New_dataset/New_ND_train.txt\",\"a\")\n",
        "class_label = \"0\"\n",
        "mode = \"training\"\n",
        "\n",
        "for seq_record in SeqIO.parse(\"ND_train.txt\",\"fasta\"):\n",
        "  id = seq_record.id + \"|\" + class_label + \"|\" + mode\n",
        "  sequence = str(seq_record.seq)\n",
        "  output_file.write(\">\"+ id + \"\\n\" + sequence + \"\\n\")\n",
        "\n",
        "output_file.close()\n",
        "#7\n",
        "output_file = open(\"New_dataset/New_PA_test.txt\",\"a\")\n",
        "class_label = \"0\"\n",
        "mode = \"training\"\n",
        "\n",
        "for seq_record in SeqIO.parse(\"PA_test.fasta\",\"fasta\"):\n",
        "  id = seq_record.id + \"|\" + class_label + \"|\" + mode\n",
        "  sequence = str(seq_record.seq)\n",
        "  output_file.write(\">\"+ id + \"\\n\" + sequence + \"\\n\")\n",
        "\n",
        "output_file.close()\n",
        "\n",
        "#8\n",
        "output_file = open(\"New_dataset/New_PC_test.txt\",\"a\")\n",
        "class_label = \"0\"\n",
        "mode = \"training\"\n",
        "\n",
        "for seq_record in SeqIO.parse(\"PC_test.txt\",\"fasta\"):\n",
        "  id = seq_record.id + \"|\" + class_label + \"|\" + mode\n",
        "  sequence = str(seq_record.seq)\n",
        "  output_file.write(\">\"+ id + \"\\n\" + sequence + \"\\n\")\n",
        "\n",
        "output_file.close()\n",
        "#9\n",
        "output_file = open(\"New_dataset/New_PD_test.txt\",\"a\")\n",
        "class_label = \"0\"\n",
        "mode = \"training\"\n",
        "\n",
        "for seq_record in SeqIO.parse(\"PD_test.txt\",\"fasta\"):\n",
        "  id = seq_record.id + \"|\" + class_label + \"|\" + mode\n",
        "  sequence = str(seq_record.seq)\n",
        "  output_file.write(\">\"+ id + \"\\n\" + sequence + \"\\n\")\n",
        "\n",
        "output_file.close()\n",
        "\n",
        "#10\n",
        "output_file = open(\"New_dataset/New_PD_train.txt\",\"a\")\n",
        "class_label = \"0\"\n",
        "mode = \"training\"\n",
        "\n",
        "for seq_record in SeqIO.parse(\"PD_train.txt\",\"fasta\"):\n",
        "  id = seq_record.id + \"|\" + class_label + \"|\" + mode\n",
        "  sequence = str(seq_record.seq)\n",
        "  output_file.write(\">\"+ id + \"\\n\" + sequence + \"\\n\")\n",
        "\n",
        "output_file.close()\n",
        "\n",
        "#11\n",
        "output_file = open(\"New_dataset/New_PA_train.txt\",\"a\")\n",
        "class_label = \"0\"\n",
        "mode = \"training\"\n",
        "\n",
        "for seq_record in SeqIO.parse(\"PA_train.txt\",\"fasta\"):\n",
        "  id = seq_record.id + \"|\" + class_label + \"|\" + mode\n",
        "  sequence = str(seq_record.seq)\n",
        "  output_file.write(\">\"+ id + \"\\n\" + sequence + \"\\n\")\n",
        "\n",
        "output_file.close()\n",
        "\n",
        "#12\n",
        "output_file = open(\"New_dataset/New_PC_train.txt\",\"a\")\n",
        "class_label = \"0\"\n",
        "mode = \"training\"\n",
        "\n",
        "for seq_record in SeqIO.parse(\"PC_train.txt\",\"fasta\"):\n",
        "  id = seq_record.id + \"|\" + class_label + \"|\" + mode\n",
        "  sequence = str(seq_record.seq)\n",
        "  output_file.write(\">\"+ id + \"\\n\" + sequence + \"\\n\")\n",
        "\n",
        "output_file.close()"
      ],
      "execution_count": null,
      "outputs": []
    },
    {
      "cell_type": "code",
      "metadata": {
        "id": "xDc11g6V6ISJ",
        "colab": {
          "base_uri": "https://localhost:8080/"
        },
        "outputId": "f95040c5-b9fd-440f-8126-324a6559ec4c"
      },
      "source": [
        "%cd /content/drive/My\\ Drive/Pattern\\ Lab/iLearn-master/"
      ],
      "execution_count": null,
      "outputs": [
        {
          "output_type": "stream",
          "text": [
            "/content/drive/My Drive/Pattern Lab/iLearn-master\n"
          ],
          "name": "stdout"
        }
      ]
    },
    {
      "cell_type": "code",
      "metadata": {
        "id": "NA_-KI0IKOht",
        "colab": {
          "base_uri": "https://localhost:8080/"
        },
        "outputId": "2881b1e7-e773-425e-9ec3-7e657573888e"
      },
      "source": [
        "st1= \"New_NA_test\"+str(1)+\".csv\"\n",
        "print(st1)"
      ],
      "execution_count": null,
      "outputs": [
        {
          "output_type": "stream",
          "text": [
            "New_NA_test1.csv\n"
          ],
          "name": "stdout"
        }
      ]
    },
    {
      "cell_type": "code",
      "metadata": {
        "id": "WQT60fDr7ro8"
      },
      "source": [
        "for i in range(1,5):\n",
        "  st1= \"New_NA_test\"+str(i)+\".csv\"\n",
        "  st2= \"New_NC_test\"+str(i)+\".csv\"\n",
        "  !python descnucleotide/Kmer.py --file New_dataset/New_NA_test.txt --kmer $i --upto --normalize --format csv --out New_dataset/kmer_dataset/$st1\n",
        "  \n",
        "  !python descnucleotide/Kmer.py --file New_dataset/New_NC_test.txt --kmer $i --upto --normalize --format csv --out New_dataset/kmer_dataset/$st2\n",
        "  st3= \"New_ND_test\"+str(i)+\".csv\"\n",
        "  !python descnucleotide/Kmer.py --file New_dataset/New_ND_test.txt --kmer $i --upto --normalize --format csv --out New_dataset/kmer_dataset/$st3\n",
        "  st4= \"New_NA_train\"+str(i)+\".csv\"\n",
        "  !python descnucleotide/Kmer.py --file New_dataset/New_NA_train.txt --kmer $i --upto --normalize --format csv --out New_dataset/kmer_dataset/$st4\n",
        "  st5= \"New_NC_train\"+str(i)+\".csv\"\n",
        "  !python descnucleotide/Kmer.py --file New_dataset/New_NC_train.txt --kmer $i --upto --normalize --format csv --out New_dataset/kmer_dataset/$st5\n",
        "  st6= \"New_ND_train\"+str(i)+\".csv\"\n",
        "  !python descnucleotide/Kmer.py --file New_dataset/New_ND_train.txt --kmer $i --upto --normalize --format csv --out New_dataset/kmer_dataset/$st6\n",
        "  st11= \"New_PA_test\"+str(i)+\".csv\"\n",
        "  !python descnucleotide/Kmer.py --file New_dataset/New_PA_test.txt --kmer $i --upto --normalize --format csv --out New_dataset/kmer_dataset/$st11\n",
        "  st22= \"New_PC_test\"+str(i)+\".csv\"\n",
        "  !python descnucleotide/Kmer.py --file New_dataset/New_PC_test.txt --kmer $i --upto --normalize --format csv --out New_dataset/kmer_dataset/$st22\n",
        "  st33= \"New_PD_test\"+str(i)+\".csv\"\n",
        "  !python descnucleotide/Kmer.py --file New_dataset/New_PD_test.txt --kmer $i --upto --normalize --format csv --out New_dataset/kmer_dataset/$st33\n",
        "  st44= \"New_PA_train\"+str(i)+\".csv\"\n",
        "  !python descnucleotide/Kmer.py --file New_dataset/New_PA_train.txt --kmer $i --upto --normalize --format csv --out New_dataset/kmer_dataset/$st44\n",
        "  st55= \"New_PC_train\"+str(i)+\".csv\"\n",
        "  !python descnucleotide/Kmer.py --file New_dataset/New_PC_train.txt --kmer $i --upto --normalize --format csv --out New_dataset/kmer_dataset/$st55\n",
        "  st66= \"New_PD_train\"+str(i)+\".csv\"\n",
        "  !python descnucleotide/Kmer.py --file New_dataset/New_PD_train.txt --kmer $i --upto --normalize --format csv --out New_dataset/kmer_dataset/$st66\n",
        "\n"
      ],
      "execution_count": null,
      "outputs": []
    },
    {
      "cell_type": "code",
      "metadata": {
        "id": "zzV_v98sO5cL"
      },
      "source": [
        "for i in range(1,11):\n",
        "  st1= \"New_NA_test\"+str(i)+\".csv\"\n",
        "  st2= \"New_NC_test\"+str(i)+\".csv\"\n",
        "  !python descnucleotide/ENAC.py --file New_dataset/New_NA_test.txt --slwindow $i --out New_dataset/ENAC_dataset/$st1\n",
        "  \n",
        "  !python descnucleotide/ENAC.py --file New_dataset/New_NC_test.txt --slwindow $i --out New_dataset/ENAC_dataset/$st2\n",
        "  st3= \"New_ND_test\"+str(i)+\".csv\"\n",
        "  !python descnucleotide/ENAC.py --file New_dataset/New_ND_test.txt --slwindow $i --out New_dataset/ENAC_dataset/$st3\n",
        "  st4= \"New_NA_train\"+str(i)+\".csv\"\n",
        "  !python descnucleotide/ENAC.py --file New_dataset/New_NA_train.txt --slwindow $i --out New_dataset/ENAC_dataset/$st4\n",
        "  st5= \"New_NC_train\"+str(i)+\".csv\"\n",
        "  !python descnucleotide/ENAC.py --file New_dataset/New_NC_train.txt --slwindow $i --out New_dataset/ENAC_dataset/$st5\n",
        "  st6= \"New_ND_train\"+str(i)+\".csv\"\n",
        "  !python descnucleotide/ENAC.py --file New_dataset/New_ND_train.txt --slwindow $i --out New_dataset/ENAC_dataset/$st6\n",
        "  st11= \"New_PA_test\"+str(i)+\".csv\"\n",
        "  !python descnucleotide/ENAC.py --file New_dataset/New_PA_test.txt --slwindow $i --out New_dataset/ENAC_dataset/$st11\n",
        "  st22= \"New_PC_test\"+str(i)+\".csv\"\n",
        "  !python descnucleotide/ENAC.py --file New_dataset/New_PC_test.txt --slwindow $i --out New_dataset/ENAC_dataset/$st22\n",
        "  st33= \"New_PD_test\"+str(i)+\".csv\"\n",
        "  !python descnucleotide/ENAC.py --file New_dataset/New_PD_test.txt --slwindow $i --out New_dataset/ENAC_dataset/$st33\n",
        "  st44= \"New_PA_train\"+str(i)+\".csv\"\n",
        "  !python descnucleotide/ENAC.py --file New_dataset/New_PA_train.txt --slwindow $i --out New_dataset/ENAC_dataset/$st44\n",
        "  st55= \"New_PC_train\"+str(i)+\".csv\"\n",
        "  !python descnucleotide/ENAC.py --file New_dataset/New_PC_train.txt --slwindow $i --out New_dataset/ENAC_dataset/$st55\n",
        "  st66= \"New_PD_train\"+str(i)+\".csv\"\n",
        "  !python descnucleotide/ENAC.py --file New_dataset/New_PD_train.txt --slwindow $i --out New_dataset/ENAC_dataset/$st66\n",
        "\n"
      ],
      "execution_count": null,
      "outputs": []
    },
    {
      "cell_type": "code",
      "metadata": {
        "id": "P_Jmj4YcStkB"
      },
      "source": [
        "for i in range(1,10,2):\n",
        "  st1= \"New_NA_test\"+str(i)+\".csv\"\n",
        "  st2= \"New_NC_test\"+str(i)+\".csv\"\n",
        "  !python descnucleotide/CKSNAP.py --file New_dataset/New_NA_test.txt --gap $i --out New_dataset/CKSNAP_dataset/$st1\n",
        "  \n",
        "  !python descnucleotide/CKSNAP.py --file New_dataset/New_NC_test.txt --gap $i --out New_dataset/CKSNAP_dataset/$st2\n",
        "  st3= \"New_ND_test\"+str(i)+\".csv\"\n",
        "  !python descnucleotide/CKSNAP.py --file New_dataset/New_ND_test.txt --gap $i --out New_dataset/CKSNAP_dataset/$st3\n",
        "  st4= \"New_NA_train\"+str(i)+\".csv\"\n",
        "  !python descnucleotide/CKSNAP.py --file New_dataset/New_NA_train.txt --gap $i --out New_dataset/CKSNAP_dataset/$st4\n",
        "  st5= \"New_NC_train\"+str(i)+\".csv\"\n",
        "  !python descnucleotide/CKSNAP.py --file New_dataset/New_NC_train.txt --gap $i --out New_dataset/CKSNAP_dataset/$st5\n",
        "  st6= \"New_ND_train\"+str(i)+\".csv\"\n",
        "  !python descnucleotide/CKSNAP.py --file New_dataset/New_ND_train.txt --gap $i --out New_dataset/CKSNAP_dataset/$st6\n",
        "  st11= \"New_PA_test\"+str(i)+\".csv\"\n",
        "  !python descnucleotide/CKSNAP.py --file New_dataset/New_PA_test.txt --gap $i --out New_dataset/CKSNAP_dataset/$st11\n",
        "  st22= \"New_PC_test\"+str(i)+\".csv\"\n",
        "  !python descnucleotide/CKSNAP.py --file New_dataset/New_PC_test.txt --gap $i --out New_dataset/CKSNAP_dataset/$st22\n",
        "  st33= \"New_PD_test\"+str(i)+\".csv\"\n",
        "  !python descnucleotide/CKSNAP.py --file New_dataset/New_PD_test.txt --gap $i --out New_dataset/CKSNAP_dataset/$st33\n",
        "  st44= \"New_PA_train\"+str(i)+\".csv\"\n",
        "  !python descnucleotide/CKSNAP.py --file New_dataset/New_PA_train.txt --gap $i --out New_dataset/CKSNAP_dataset/$st44\n",
        "  st55= \"New_PC_train\"+str(i)+\".csv\"\n",
        "  !python descnucleotide/CKSNAP.py --file New_dataset/New_PC_train.txt --gap $i --out New_dataset/CKSNAP_dataset/$st55\n",
        "  st66= \"New_PD_train\"+str(i)+\".csv\"\n",
        "  !python descnucleotide/CKSNAP.py --file New_dataset/New_PD_train.txt --gap $i --out New_dataset/CKSNAP_dataset/$st66\n",
        "  "
      ],
      "execution_count": null,
      "outputs": []
    },
    {
      "cell_type": "code",
      "metadata": {
        "id": "LyRBTfMtVnTN"
      },
      "source": [
        "for i in range(1,8):\n",
        "  st1= \"New_NA_test\"+str(i)+\".csv\"\n",
        "  st2= \"New_NC_test\"+str(i)+\".csv\"\n",
        "  !python iLearn-nucleotide-acc.py --file New_dataset/New_NA_test.txt --method TAC --type DNA --lag $i --out New_dataset/TAC_dataset/$st1\n",
        "  \n",
        "  !python iLearn-nucleotide-acc.py --file New_dataset/New_NC_test.txt --method TAC --type DNA --lag $i --out New_dataset/TAC_dataset/$st2\n",
        "  st3= \"New_ND_test\"+str(i)+\".csv\"\n",
        "  !python iLearn-nucleotide-acc.py --file New_dataset/New_ND_test.txt --method TAC --type DNA --lag $i --out New_dataset/TAC_dataset/$st3\n",
        "  st4= \"New_NA_train\"+str(i)+\".csv\"\n",
        "  !python iLearn-nucleotide-acc.py --file New_dataset/New_NA_train.txt --method TAC --type DNA --lag $i --out New_dataset/TAC_dataset/$st4\n",
        "  st5= \"New_NC_train\"+str(i)+\".csv\"\n",
        "  !python iLearn-nucleotide-acc.py --file New_dataset/New_NC_train.txt --method TAC --type DNA --lag  $i --out New_dataset/TAC_dataset/$st5\n",
        "  st6= \"New_ND_train\"+str(i)+\".csv\"\n",
        "  !python iLearn-nucleotide-acc.py --file New_dataset/New_ND_train.txt --method TAC --type DNA --lag  $i --out New_dataset/TAC_dataset/$st6\n",
        "  st11= \"New_PA_test\"+str(i)+\".csv\"\n",
        "  !python iLearn-nucleotide-acc.py --file New_dataset/New_PA_test.txt --method TAC --type DNA --lag  $i --out New_dataset/TAC_dataset/$st11\n",
        "  st22= \"New_PC_test\"+str(i)+\".csv\"\n",
        "  !python iLearn-nucleotide-acc.py --file New_dataset/New_PC_test.txt --method TAC --type DNA --lag  $i --out New_dataset/TAC_dataset/$st22\n",
        "  st33= \"New_PD_test\"+str(i)+\".csv\"\n",
        "  !python iLearn-nucleotide-acc.py --file New_dataset/New_PD_test.txt --method TAC --type DNA --lag  $i --out New_dataset/TAC_dataset/$st33\n",
        "  st44= \"New_PA_train\"+str(i)+\".csv\"\n",
        "  !python iLearn-nucleotide-acc.py --file New_dataset/New_PA_train.txt --method TAC --type DNA --lag  $i --out New_dataset/TAC_dataset/$st44\n",
        "  st55= \"New_PC_train\"+str(i)+\".csv\"\n",
        "  !python iLearn-nucleotide-acc.py --file New_dataset/New_PC_train.txt --method TAC --type DNA --lag  $i --out New_dataset/TAC_dataset/$st55\n",
        "  st66= \"New_PD_train\"+str(i)+\".csv\"\n",
        "  !python iLearn-nucleotide-acc.py --file New_dataset/New_PD_train.txt --method TAC --type DNA --lag  $i --out New_dataset/TAC_dataset/$st66"
      ],
      "execution_count": null,
      "outputs": []
    },
    {
      "cell_type": "code",
      "metadata": {
        "id": "sdScTYF6aail"
      },
      "source": [
        ""
      ],
      "execution_count": null,
      "outputs": []
    }
  ]
}